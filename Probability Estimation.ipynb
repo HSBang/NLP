{
 "cells": [
  {
   "cell_type": "code",
   "execution_count": 39,
   "metadata": {
    "collapsed": true
   },
   "outputs": [],
   "source": [
    "import numpy as np\n",
    "import matplotlib.pyplot as plt\n",
    "from math import exp, pi, log\n"
   ]
  },
  {
   "cell_type": "code",
   "execution_count": 99,
   "metadata": {
    "collapsed": false
   },
   "outputs": [
    {
     "name": "stdout",
     "output_type": "stream",
     "text": [
      "Probabilities:  [ 0.0625  0.125   0.1875  0.25    0.1875  0.125   0.0625]\n",
      "Relative Frequencies:  [ 0.0637  0.125   0.1937  0.2477  0.1841  0.1255  0.0603]\n"
     ]
    },
    {
     "data": {
      "image/png": "[encoded data removed]",
      "text/plain": [
       "<matplotlib.figure.Figure at 0x87197b8>"
      ]
     },
     "metadata": {},
     "output_type": "display_data"
    }
   ],
   "source": [
    "S = [1,2,3,4]\n",
    "\n",
    "def sum_dice(array, size=1):\n",
    "    d1 = np.random.choice(array, size=size)\n",
    "    d2 = np.random.choice(array, size=size)\n",
    "    return d1+d2\n",
    "\n",
    "dice_samples = np.empty(10000)\n",
    "hyp_samples = np.array([2, 3, 3, 4, 4, 4, 5, 5, 5, 5, 6, 6, 6, 7, 7, 8])\n",
    "\n",
    "for i in range(10000):\n",
    "    dice_samples[i] = sum_dice(S)\n",
    "\n",
    "#Computing Relative Frequencies\n",
    "outcome = np.array([2,3,4,5,6,7,8])\n",
    "relative_freq = np.empty(7)\n",
    "hypo_prob = np.empty(7)\n",
    "\n",
    "for n in range(7):\n",
    "        relative_freq[n] = np.sum(dice_samples == n+2)/len(dice_samples)\n",
    "        hypo_prob[n] = np.sum(hyp_samples == n+2)/len(hypo_sample)\n",
    "\n",
    "\n",
    "print('Probabilities: ', np.array([1/16, 2/16, 3/16, 4/16, 3/16, 2/16, 1/16]))\n",
    "print('Relative Frequencies: ', relative_freq)\n",
    "\n",
    "#Plot Actual Experiment Results\n",
    "_ = plt.hist(dice_samples, range=(1.5, 8.5), bins=7, histtype='step', color='red', normed=True)\n",
    "_ = plt.hist(hyp_samples, range=(1.5, 8.5), bins=7, histtype='step', color='blue', normed=True)\n",
    "_ = plt.xlabel('Sum of two dices')\n",
    "_ = plt.ylabel('Relative frequency')\n",
    "\n",
    "plt.show()"
   ]
  },
  {
   "cell_type": "code",
   "execution_count": 154,
   "metadata": {
    "collapsed": false
   },
   "outputs": [
    {
     "data": {
      "image/png": "[encoded data removed]",
      "text/plain": [
       "<matplotlib.figure.Figure at 0x86995f8>"
      ]
     },
     "metadata": {},
     "output_type": "display_data"
    },
    {
     "name": "stdout",
     "output_type": "stream",
     "text": [
      "mean of F:  999.940012284\n",
      "F_hat:  999.490270707\n"
     ]
    }
   ],
   "source": [
    "#np.random.seed(2)\n",
    "e = np.random.normal(30, 3, 100)\n",
    "F = np.random.normal(1000, e) #draw random samples with a mean of 1000 assuming Gaussian error\n",
    "F_bar = np.mean(F)\n",
    "\n",
    "#Computing Maximum Likelihood Distribution based on Frequentist Approach\n",
    "likelihood_dist = np.empty(len(F))\n",
    "for f in range(len(F)):\n",
    "    likelihood_F = 1\n",
    "    for i in range(len(F)):\n",
    "        pdf = np.empty(len(F))\n",
    "        pdf[i] = ((2*pi*(e[i]**2))**-0.5)*exp(-(F[i]-F[f])**2/(2*(e[i]**2)))\n",
    "    for val in pdf:\n",
    "        likelihood_F = likelihood_F*val\n",
    "    likelihood_dist[f] = likelihood_F\n",
    "\n",
    "result = list(zip(F, likelihood_dist))\n",
    "#Plot the Result\n",
    "plt.plot(F, likelihood_dist, marker='.', linestyle='none', color='blue')\n",
    "plt.axvline(F_bar, linestyle='solid', color='red')\n",
    "plt.xlabel(\"Value of F\")\n",
    "plt.ylabel(\"Likelihood\")\n",
    "plt.show()\n",
    "\n",
    "w = 1/e**2\n",
    "F_hat = np.sum(w*F)/np.sum(w)\n",
    "sigma_F = w.sum()**(-0.5)\n",
    "print(\"mean of F: \", F_bar)\n",
    "print(\"F_hat: \", F_hat)"
   ]
  }
 ],
 "metadata": {
  "kernelspec": {
   "display_name": "Python 3",
   "language": "python",
   "name": "python3"
  },
  "language_info": {
   "codemirror_mode": {
    "name": "ipython",
    "version": 3
   },
   "file_extension": ".py",
   "mimetype": "text/x-python",
   "name": "python",
   "nbconvert_exporter": "python",
   "pygments_lexer": "ipython3",
   "version": "3.6.0"
  }
 },
 "nbformat": 4,
 "nbformat_minor": 2
}
